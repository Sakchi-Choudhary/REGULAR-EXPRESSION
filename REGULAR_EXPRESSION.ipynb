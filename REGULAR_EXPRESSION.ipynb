{
  "nbformat": 4,
  "nbformat_minor": 0,
  "metadata": {
    "colab": {
      "name": "REQULAR EXPRESSION.ipynb",
      "provenance": [],
      "collapsed_sections": []
    },
    "kernelspec": {
      "name": "python3",
      "display_name": "Python 3"
    }
  },
  "cells": [
    {
      "cell_type": "code",
      "metadata": {
        "id": "SSjyhKnTEjd1",
        "outputId": "a71d5057-399f-45ad-cfea-af193a6ab10f",
        "colab": {
          "base_uri": "https://localhost:8080/",
          "height": 34
        }
      },
      "source": [
        "import re\n",
        "\n",
        "#check if the string starts with \"THE\"and ends with \"Spain\"\n",
        "\n",
        "txt=\"The rain in Spain\"\n",
        "x=re.search(\"^The.*Spain$\",txt)\n",
        "if x:\n",
        "  print(\"Yes!we have a match\")\n",
        "else:\n",
        "  print(\"no match\")\n",
        "\n"
      ],
      "execution_count": null,
      "outputs": [
        {
          "output_type": "stream",
          "text": [
            "Yes!we have a match\n"
          ],
          "name": "stdout"
        }
      ]
    },
    {
      "cell_type": "code",
      "metadata": {
        "id": "-pk92tSESqan",
        "outputId": "9049351a-5386-498a-aacc-8959ef4dcf01",
        "colab": {
          "base_uri": "https://localhost:8080/",
          "height": 34
        }
      },
      "source": [
        "import re\n",
        "txt=(\"The rain in Spain\")\n",
        "x=re.search(\"Portugal\",txt)\n",
        "print(x)\n"
      ],
      "execution_count": null,
      "outputs": [
        {
          "output_type": "stream",
          "text": [
            "None\n"
          ],
          "name": "stdout"
        }
      ]
    },
    {
      "cell_type": "code",
      "metadata": {
        "id": "36JklXoDTdaK",
        "outputId": "a99f7581-fcb3-4684-ba4f-29b593a06b3c",
        "colab": {
          "base_uri": "https://localhost:8080/",
          "height": 34
        }
      },
      "source": [
        "import re\n",
        "\n",
        "txt=\"The rain in Spain\"\n",
        "x=re.findall(\"[a-z]\",txt)\n",
        "print (x)"
      ],
      "execution_count": null,
      "outputs": [
        {
          "output_type": "stream",
          "text": [
            "['h', 'e', 'r', 'a', 'i', 'n', 'i', 'n', 'p', 'a', 'i', 'n']\n"
          ],
          "name": "stdout"
        }
      ]
    },
    {
      "cell_type": "code",
      "metadata": {
        "id": "AFVhL69aUETf",
        "outputId": "ffba112b-d95e-498b-f4d8-2112bb592071",
        "colab": {
          "base_uri": "https://localhost:8080/",
          "height": 34
        }
      },
      "source": [
        "import re\n",
        "\n",
        "txt=\"The rain in Spain\"\n",
        "x=re.findall(\"[A-z]\",txt)\n",
        "print (x)"
      ],
      "execution_count": null,
      "outputs": [
        {
          "output_type": "stream",
          "text": [
            "['T', 'h', 'e', 'r', 'a', 'i', 'n', 'i', 'n', 'S', 'p', 'a', 'i', 'n']\n"
          ],
          "name": "stdout"
        }
      ]
    },
    {
      "cell_type": "code",
      "metadata": {
        "id": "oVM9OsTSUYg0",
        "outputId": "49738ab5-6e29-4c9e-e8e2-b603e513c688",
        "colab": {
          "base_uri": "https://localhost:8080/",
          "height": 34
        }
      },
      "source": [
        "import re\n",
        "\n",
        "txt = \"That will be 59 dollars\"\n",
        "\n",
        "#Find all digit characters:\n",
        "\n",
        "x = re.findall(\"\\d\", txt)\n",
        "print(x)\n"
      ],
      "execution_count": null,
      "outputs": [
        {
          "output_type": "stream",
          "text": [
            "['5', '9']\n"
          ],
          "name": "stdout"
        }
      ]
    },
    {
      "cell_type": "code",
      "metadata": {
        "id": "lnpDNlZ7UeM1",
        "outputId": "e901671e-24ea-48e1-e6be-e5136671eaf9",
        "colab": {
          "base_uri": "https://localhost:8080/",
          "height": 34
        }
      },
      "source": [
        "import re\n",
        "\n",
        "txt = \"hello world\"\n",
        "\n",
        "#Search for a sequence that starts with \"he\", followed by two (any) characters, and an \"o\":\n",
        "\n",
        "x = re.findall(\"he..o\", txt)\n",
        "print(x)\n"
      ],
      "execution_count": null,
      "outputs": [
        {
          "output_type": "stream",
          "text": [
            "['hello']\n"
          ],
          "name": "stdout"
        }
      ]
    },
    {
      "cell_type": "code",
      "metadata": {
        "id": "GeYTl753Urvg",
        "outputId": "ace4636c-a284-4298-9ee4-5846903a3ca6",
        "colab": {
          "base_uri": "https://localhost:8080/",
          "height": 34
        }
      },
      "source": [
        "import re\n",
        "\n",
        "txt = \"hello world\"\n",
        "\n",
        "#Search for a sequence that starts with \"he\", followed by two (any) characters, and an \"o\":\n",
        "\n",
        "x = re.findall(\"he..o\", txt)\n",
        "print(x)\n"
      ],
      "execution_count": null,
      "outputs": [
        {
          "output_type": "stream",
          "text": [
            "['hello']\n"
          ],
          "name": "stdout"
        }
      ]
    },
    {
      "cell_type": "code",
      "metadata": {
        "id": "nW0LxIgKUxME",
        "outputId": "2d16a38e-bf64-4350-d96a-a390462a4ecb",
        "colab": {
          "base_uri": "https://localhost:8080/",
          "height": 34
        }
      },
      "source": [
        "import re\n",
        "\n",
        "txt = \"hello world\"\n",
        "\n",
        "#Check if the string ends with 'world':\n",
        "\n",
        "x = re.findall(\"world$\", txt)\n",
        "if x:\n",
        "  print(\"Yes, the string ends with 'world'\")\n",
        "else:\n",
        "  print(\"No match\")\n"
      ],
      "execution_count": null,
      "outputs": [
        {
          "output_type": "stream",
          "text": [
            "Yes, the string ends with 'world'\n"
          ],
          "name": "stdout"
        }
      ]
    },
    {
      "cell_type": "code",
      "metadata": {
        "id": "dJ32_0d2U2Q1",
        "outputId": "a4b3f8d2-b78b-41c6-ef87-877bcd6335c6",
        "colab": {
          "base_uri": "https://localhost:8080/",
          "height": 50
        }
      },
      "source": [
        "import re\n",
        "\n",
        "txt = \"The rain in Spain falls mainly in the plain!\"\n",
        "\n",
        "#Check if the string contains \"ai\" followed by 0 or more \"x\" characters:\n",
        "\n",
        "x = re.findall(\"aix*\", txt)\n",
        "\n",
        "print(x)\n",
        "\n",
        "if x:\n",
        "  print(\"Yes, there is at least one match!\")\n",
        "else:\n",
        "  print(\"No match\")\n"
      ],
      "execution_count": null,
      "outputs": [
        {
          "output_type": "stream",
          "text": [
            "['ai', 'ai', 'ai', 'ai']\n",
            "Yes, there is at least one match!\n"
          ],
          "name": "stdout"
        }
      ]
    },
    {
      "cell_type": "code",
      "metadata": {
        "id": "k3u161jmU6dC",
        "outputId": "1ad7fe5c-8891-457c-a029-9a2d38757b26",
        "colab": {
          "base_uri": "https://localhost:8080/",
          "height": 50
        }
      },
      "source": [
        "import re\n",
        "\n",
        "txt = \"The rain in Spain falls mainly in the plain!\"\n",
        "\n",
        "#Check if the string contains \"ai\" followed by 1 or more \"x\" characters:\n",
        "\n",
        "x = re.findall(\"aix+\", txt)\n",
        "\n",
        "print(x)\n",
        "\n",
        "if x:\n",
        "  print(\"Yes, there is at least one match!\")\n",
        "else:\n",
        "  print(\"No match\")\n"
      ],
      "execution_count": null,
      "outputs": [
        {
          "output_type": "stream",
          "text": [
            "[]\n",
            "No match\n"
          ],
          "name": "stdout"
        }
      ]
    },
    {
      "cell_type": "code",
      "metadata": {
        "id": "E9AZQgv9VC4b",
        "outputId": "5b59f1a8-7000-4d72-b86b-3ab4d00341a3",
        "colab": {
          "base_uri": "https://localhost:8080/",
          "height": 50
        }
      },
      "source": [
        "import re\n",
        "\n",
        "txt = \"The rain in Spain falls mainly in the plain!\"\n",
        "\n",
        "#Check if the string contains \"a\" followed by exactly two \"l\" characters:\n",
        "\n",
        "x = re.findall(\"al{2}\", txt)\n",
        "\n",
        "print(x)\n",
        "\n",
        "if x:\n",
        "  print(\"Yes, there is at least one match!\")\n",
        "else:\n",
        "  print(\"No match\")\n"
      ],
      "execution_count": null,
      "outputs": [
        {
          "output_type": "stream",
          "text": [
            "['all']\n",
            "Yes, there is at least one match!\n"
          ],
          "name": "stdout"
        }
      ]
    },
    {
      "cell_type": "code",
      "metadata": {
        "id": "woR3FejhVKg6"
      },
      "source": [
        ""
      ],
      "execution_count": null,
      "outputs": []
    },
    {
      "cell_type": "code",
      "metadata": {
        "id": "6_XFnZyqV3U4",
        "outputId": "e545cde7-9876-46dc-854e-f716727d2300",
        "colab": {
          "base_uri": "https://localhost:8080/",
          "height": 34
        }
      },
      "source": [
        "\n",
        "# Python program to check if  \n",
        "# given mobile number is valid \n",
        "import re \n",
        "  \n",
        "def isValid(s): \n",
        "      \n",
        "    # 1) Begins with 0 or 91 \n",
        "    # 2) Then contains 7 or 8 or 9. \n",
        "    # 3) Then contains 9 digits \n",
        "    Pattern = re.compile(\"(0/91)?[7-9][0-9]{9}\") \n",
        "    return Pattern.match(s) \n",
        "  \n",
        "# Driver Code \n",
        "s = \"347873923408\"\n",
        "if (isValid(s)):  \n",
        "    print (\"Valid  mobile Number\")      \n",
        "else : \n",
        "    print (\"Invalid mobile Number\")  \n"
      ],
      "execution_count": null,
      "outputs": [
        {
          "output_type": "stream",
          "text": [
            "Invalid mobile Number\n"
          ],
          "name": "stdout"
        }
      ]
    },
    {
      "cell_type": "code",
      "metadata": {
        "id": "CRvCVzeAWkeJ",
        "outputId": "88514c1b-1c81-403a-9703-a00e5a191280",
        "colab": {
          "base_uri": "https://localhost:8080/",
          "height": 34
        }
      },
      "source": [
        " import re\n",
        "phonenumber= \"516-111-2222\"\n",
        "\n",
        "regex= \"\\w{3}-\\w{3}-\\w{4}\"\n",
        "\n",
        "if re.search(regex, phonenumber):\n",
        "        print(\"Valid phone number\")\n",
        " else:\n",
        "        print(\"Invalid phone number\")\n"
      ],
      "execution_count": null,
      "outputs": [
        {
          "output_type": "stream",
          "text": [
            "Valid phone number\n"
          ],
          "name": "stdout"
        }
      ]
    }
  ]
}